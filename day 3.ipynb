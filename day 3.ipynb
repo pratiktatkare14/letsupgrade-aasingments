{
  "nbformat": 4,
  "nbformat_minor": 0,
  "metadata": {
    "colab": {
      "name": "Untitled0.ipynb",
      "provenance": [],
      "authorship_tag": "ABX9TyPGsWS0e3zZ2uJ1WRJnps5V",
      "include_colab_link": true
    },
    "kernelspec": {
      "name": "python3",
      "display_name": "Python 3"
    }
  },
  "cells": [
    {
      "cell_type": "markdown",
      "metadata": {
        "id": "view-in-github",
        "colab_type": "text"
      },
      "source": [
        "<a href=\"https://colab.research.google.com/github/pratiktatkare14/letsupgrade-aasingments/blob/master/day%203.ipynb\" target=\"_parent\"><img src=\"https://colab.research.google.com/assets/colab-badge.svg\" alt=\"Open In Colab\"/></a>"
      ]
    },
    {
      "cell_type": "code",
      "metadata": {
        "id": "219ppucbwDb-",
        "colab_type": "code",
        "colab": {
          "base_uri": "https://localhost:8080/",
          "height": 34
        },
        "outputId": "86edd40f-1472-4aa3-b3b3-c76c1c6cc3ca"
      },
      "source": [
        "a=1000\n",
        "b=4500\n",
        "c=6500\n",
        "if a<1000:\n",
        "  print(\"safe to land\")\n",
        "elif b>1000<5000:\n",
        "  print(\"bring down to 1000\")\n",
        "else:\n",
        " print(\"turn arround\")"
      ],
      "execution_count": 58,
      "outputs": [
        {
          "output_type": "stream",
          "text": [
            "bring down to 1000\n"
          ],
          "name": "stdout"
        }
      ]
    },
    {
      "cell_type": "code",
      "metadata": {
        "id": "kicey7hf2f04",
        "colab_type": "code",
        "colab": {
          "base_uri": "https://localhost:8080/",
          "height": 107
        },
        "outputId": "e0f4bfbc-a091-4e74-93ea-fa78471b4b5f"
      },
      "source": [
        "upto = int(input(\"Find prime numbers upto : \"))\n",
        "\n",
        "print(\"\\nAll prime numbers upto\", upto, \"are : \")\n",
        "\n",
        "for num in range(1,200):\n",
        "\n",
        "    i = 2\n",
        "\n",
        "    for i in range(2, num):\n",
        "        if(num % i == 0):\n",
        "            i = num\n",
        "            break;\n",
        "\n",
        "    # If the number is prime then print it.\n",
        "    if(i != num):\n",
        "        print(num, end=\" \")"
      ],
      "execution_count": 62,
      "outputs": [
        {
          "output_type": "stream",
          "text": [
            "Find prime numbers upto : 2\n",
            "\n",
            "All prime numbers upto 2 are : \n",
            "1 3 5 7 11 13 17 19 23 29 31 37 41 43 47 53 59 61 67 71 73 79 83 89 97 101 103 107 109 113 127 131 137 139 149 151 157 163 167 173 179 181 191 193 197 199 "
          ],
          "name": "stdout"
        }
      ]
    },
    {
      "cell_type": "code",
      "metadata": {
        "id": "oRixvxZ51mLc",
        "colab_type": "code",
        "colab": {}
      },
      "source": [
        ""
      ],
      "execution_count": null,
      "outputs": []
    }
  ]
}