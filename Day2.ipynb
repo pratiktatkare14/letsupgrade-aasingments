{
  "nbformat": 4,
  "nbformat_minor": 0,
  "metadata": {
    "colab": {
      "name": "Untitled0.ipynb",
      "provenance": [],
      "authorship_tag": "ABX9TyNM7JTRaj7I5tQFLoxjwEQ7",
      "include_colab_link": true
    },
    "kernelspec": {
      "name": "python3",
      "display_name": "Python 3"
    }
  },
  "cells": [
    {
      "cell_type": "markdown",
      "metadata": {
        "id": "view-in-github",
        "colab_type": "text"
      },
      "source": [
        "<a href=\"https://colab.research.google.com/github/pratiktatkare14/letsupgrade-aasingments/blob/master/Day2.ipynb\" target=\"_parent\"><img src=\"https://colab.research.google.com/assets/colab-badge.svg\" alt=\"Open In Colab\"/></a>"
      ]
    },
    {
      "cell_type": "code",
      "metadata": {
        "id": "bBVQwETsr1R4",
        "colab_type": "code",
        "colab": {
          "base_uri": "https://localhost:8080/",
          "height": 123
        },
        "outputId": "035648f9-6d8a-4bfe-96df-494a2d376f66"
      },
      "source": [
        "thislist = [\"apple\", \"banana\", \"cherry\"]\n",
        "thislist.remove(\"banana\")\n",
        "print(thislist)\n",
        "thislist.insert(2,\"banana\")\n",
        "print(thislist)\n",
        "thislist.pop()\n",
        "print(thislist)\n",
        "x=thislist.index(\"cherry\")\n",
        "print(thislist)\n",
        "mylist = thislist.copy()\n",
        "print(mylist)\n",
        "thislist.clear()\n",
        "print(thislist)"
      ],
      "execution_count": 43,
      "outputs": [
        {
          "output_type": "stream",
          "text": [
            "['apple', 'cherry']\n",
            "['apple', 'cherry', 'banana']\n",
            "['apple', 'cherry']\n",
            "['apple', 'cherry']\n",
            "['apple', 'cherry']\n",
            "[]\n"
          ],
          "name": "stdout"
        }
      ]
    },
    {
      "cell_type": "code",
      "metadata": {
        "id": "1qz4EdrOtpNG",
        "colab_type": "code",
        "colab": {
          "base_uri": "https://localhost:8080/",
          "height": 34
        },
        "outputId": "e5b3ac6d-2dbb-4d8b-9222-fe1354c60897"
      },
      "source": [
        "lst=[\"apple\",\"banana\",\"mango\"]\n",
        "lst.index(\"mango\")"
      ],
      "execution_count": 44,
      "outputs": [
        {
          "output_type": "execute_result",
          "data": {
            "text/plain": [
              "2"
            ]
          },
          "metadata": {
            "tags": []
          },
          "execution_count": 44
        }
      ]
    },
    {
      "cell_type": "code",
      "metadata": {
        "id": "KEiUXGITuAzu",
        "colab_type": "code",
        "colab": {}
      },
      "source": [
        "lst=[\"apple\",\"banana\",\"mango\",\"potato\"]\n",
        "lst.remove(\"potato\")\n"
      ],
      "execution_count": 51,
      "outputs": []
    }
  ]
}