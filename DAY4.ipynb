{
  "nbformat": 4,
  "nbformat_minor": 0,
  "metadata": {
    "colab": {
      "name": "Untitled1.ipynb",
      "provenance": [],
      "authorship_tag": "ABX9TyMFRLv06Si6F/yVdVr/6f7f",
      "include_colab_link": true
    },
    "kernelspec": {
      "name": "python3",
      "display_name": "Python 3"
    }
  },
  "cells": [
    {
      "cell_type": "markdown",
      "metadata": {
        "id": "view-in-github",
        "colab_type": "text"
      },
      "source": [
        "<a href=\"https://colab.research.google.com/github/pratiktatkare14/letsupgrade-aasingments/blob/master/DAY4.ipynb\" target=\"_parent\"><img src=\"https://colab.research.google.com/assets/colab-badge.svg\" alt=\"Open In Colab\"/></a>"
      ]
    },
    {
      "cell_type": "code",
      "metadata": {
        "id": "FpCEW2023j-a",
        "colab_type": "code",
        "colab": {
          "base_uri": "https://localhost:8080/",
          "height": 52
        },
        "outputId": "aa766777-daa8-498c-ec6f-1b69851f0073"
      },
      "source": [
        "\n",
        "num = int(input(\"Enter the number: \")) \n",
        "sum = 0 \n",
        "temp = num \n",
        "#for num in range(1042000,702648265):\n",
        "while (temp>0): \n",
        "    digit = temp % 10 \n",
        "    sum += digit ** 3 \n",
        "    temp //= 10 \n",
        "if (num == sum): \n",
        "    print(\"Armstrong number\") \n",
        "else: \n",
        "    print(\"Not an Armstrong number\")"
      ],
      "execution_count": 4,
      "outputs": [
        {
          "output_type": "stream",
          "text": [
            "Enter the number: 10\n",
            "Not an Armstrong number\n"
          ],
          "name": "stdout"
        }
      ]
    },
    {
      "cell_type": "code",
      "metadata": {
        "id": "FNk6ZDOn4s-Q",
        "colab_type": "code",
        "colab": {
          "base_uri": "https://localhost:8080/",
          "height": 70
        },
        "outputId": "c5ab5404-3eaf-4215-bfda-b669cf098645"
      },
      "source": [
        "lower = int(input(\"Enter lower range: \"))\n",
        "upper = int(input(\"Enter upper range: \"))\n",
        "for num in range(lower, upper + 1):\n",
        "    order = len(str(num))\n",
        "    sum = 0\n",
        "    #find the sum of the cube of each digit\n",
        "    temp = num\n",
        "    while temp > 0:\n",
        "        digit = temp % 10\n",
        "        sum += digit ** order \n",
        "        temp //= 10\n",
        "    if num == sum:\n",
        "        print(num, end = ' ')"
      ],
      "execution_count": null,
      "outputs": [
        {
          "output_type": "stream",
          "text": [
            "Enter lower range: 1042000\n",
            "Enter upper range: 70264865\n",
            "1741725 4210818 "
          ],
          "name": "stdout"
        }
      ]
    }
  ]
}